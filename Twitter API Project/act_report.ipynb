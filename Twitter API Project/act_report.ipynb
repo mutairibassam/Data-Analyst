{
 "cells": [
  {
   "cell_type": "markdown",
   "metadata": {},
   "source": [
    "# Project: <a href=\"https://twitter.com/dog_rates\">@WeRateDogs</a> Twitter Data Analysis\n",
    "\n",
    "## Table of contents\n",
    "- [Introduction](#intro)\n",
    "- [Exploratory Data Analysis](#eda)\n",
    "<ul>\n",
    "    <li>What is the highest source used to tweet?</li>\n",
    "    <li>Does the first algorithm need to be optimized?</li>\n",
    "    <li>Is there a correlation between favorate and retweet?</li>\n",
    "    <li>What is the most common rating?</li>\n",
    "    <li>What is the most favorate dog stage?</li>\n",
    "</ul>\n",
    "- [Conclusion](#conc)"
   ]
  },
  {
   "cell_type": "markdown",
   "metadata": {},
   "source": [
    "<a id='intro'></a>\n",
    "## Introduction\n",
    "\n",
    "In this project I will be visualizing data associated with <a href=\"https://twitter.com/dog_rates\">@WeRateDogs</a> Twitter account to create interesting and trustworthy visualizations. <a href=\"https://twitter.com/dog_rates\">@WeRateDogs</a> is basically a Twitter account that shares dogs' pictures along with a description. \n",
    "\n",
    "In particular, I will be interested in what is the highest source used to tweet? Does the first algorithm need to be optimized? Is there a correlation between favorate and retweet? What is the most common rating? and what is the most favorate dog stage?"
   ]
  },
  {
   "cell_type": "code",
   "execution_count": 286,
   "metadata": {},
   "outputs": [
    {
     "data": {
      "text/html": [
       "<div>\n",
       "<style scoped>\n",
       "    .dataframe tbody tr th:only-of-type {\n",
       "        vertical-align: middle;\n",
       "    }\n",
       "\n",
       "    .dataframe tbody tr th {\n",
       "        vertical-align: top;\n",
       "    }\n",
       "\n",
       "    .dataframe thead th {\n",
       "        text-align: right;\n",
       "    }\n",
       "</style>\n",
       "<table border=\"1\" class=\"dataframe\">\n",
       "  <thead>\n",
       "    <tr style=\"text-align: right;\">\n",
       "      <th></th>\n",
       "      <th>tweet_id</th>\n",
       "      <th>rating_numerator</th>\n",
       "      <th>rating_denominator</th>\n",
       "      <th>confidence_of_first_prediction</th>\n",
       "      <th>retweet_count</th>\n",
       "      <th>favorite_count</th>\n",
       "    </tr>\n",
       "  </thead>\n",
       "  <tbody>\n",
       "    <tr>\n",
       "      <th>count</th>\n",
       "      <td>2.033000e+03</td>\n",
       "      <td>2033.000000</td>\n",
       "      <td>2033.0</td>\n",
       "      <td>2033.000000</td>\n",
       "      <td>2033.000000</td>\n",
       "      <td>2033.000000</td>\n",
       "    </tr>\n",
       "    <tr>\n",
       "      <th>mean</th>\n",
       "      <td>7.380779e+17</td>\n",
       "      <td>10.610428</td>\n",
       "      <td>10.0</td>\n",
       "      <td>0.593649</td>\n",
       "      <td>2546.147073</td>\n",
       "      <td>7901.463847</td>\n",
       "    </tr>\n",
       "    <tr>\n",
       "      <th>std</th>\n",
       "      <td>6.773786e+16</td>\n",
       "      <td>2.115217</td>\n",
       "      <td>0.0</td>\n",
       "      <td>0.271170</td>\n",
       "      <td>4455.387024</td>\n",
       "      <td>11957.537604</td>\n",
       "    </tr>\n",
       "    <tr>\n",
       "      <th>min</th>\n",
       "      <td>6.660209e+17</td>\n",
       "      <td>2.000000</td>\n",
       "      <td>10.0</td>\n",
       "      <td>0.044333</td>\n",
       "      <td>11.000000</td>\n",
       "      <td>0.000000</td>\n",
       "    </tr>\n",
       "    <tr>\n",
       "      <th>25%</th>\n",
       "      <td>6.762636e+17</td>\n",
       "      <td>10.000000</td>\n",
       "      <td>10.0</td>\n",
       "      <td>0.362835</td>\n",
       "      <td>543.000000</td>\n",
       "      <td>1485.000000</td>\n",
       "    </tr>\n",
       "    <tr>\n",
       "      <th>50%</th>\n",
       "      <td>7.116527e+17</td>\n",
       "      <td>11.000000</td>\n",
       "      <td>10.0</td>\n",
       "      <td>0.587764</td>\n",
       "      <td>1197.000000</td>\n",
       "      <td>3476.000000</td>\n",
       "    </tr>\n",
       "    <tr>\n",
       "      <th>75%</th>\n",
       "      <td>7.931506e+17</td>\n",
       "      <td>12.000000</td>\n",
       "      <td>10.0</td>\n",
       "      <td>0.841987</td>\n",
       "      <td>2932.000000</td>\n",
       "      <td>9844.000000</td>\n",
       "    </tr>\n",
       "    <tr>\n",
       "      <th>max</th>\n",
       "      <td>8.924206e+17</td>\n",
       "      <td>15.000000</td>\n",
       "      <td>10.0</td>\n",
       "      <td>1.000000</td>\n",
       "      <td>76284.000000</td>\n",
       "      <td>153961.000000</td>\n",
       "    </tr>\n",
       "  </tbody>\n",
       "</table>\n",
       "</div>"
      ],
      "text/plain": [
       "           tweet_id  rating_numerator  rating_denominator  \\\n",
       "count  2.033000e+03       2033.000000              2033.0   \n",
       "mean   7.380779e+17         10.610428                10.0   \n",
       "std    6.773786e+16          2.115217                 0.0   \n",
       "min    6.660209e+17          2.000000                10.0   \n",
       "25%    6.762636e+17         10.000000                10.0   \n",
       "50%    7.116527e+17         11.000000                10.0   \n",
       "75%    7.931506e+17         12.000000                10.0   \n",
       "max    8.924206e+17         15.000000                10.0   \n",
       "\n",
       "       confidence_of_first_prediction  retweet_count  favorite_count  \n",
       "count                     2033.000000    2033.000000     2033.000000  \n",
       "mean                         0.593649    2546.147073     7901.463847  \n",
       "std                          0.271170    4455.387024    11957.537604  \n",
       "min                          0.044333      11.000000        0.000000  \n",
       "25%                          0.362835     543.000000     1485.000000  \n",
       "50%                          0.587764    1197.000000     3476.000000  \n",
       "75%                          0.841987    2932.000000     9844.000000  \n",
       "max                          1.000000   76284.000000   153961.000000  "
      ]
     },
     "execution_count": 286,
     "metadata": {},
     "output_type": "execute_result"
    }
   ],
   "source": [
    "# import all the required libs\n",
    "\n",
    "import pandas as pd\n",
    "import numpy as np\n",
    "import matplotlib.pyplot as plt\n",
    "import seaborn as sns\n",
    "%matplotlib inline\n",
    "\n",
    "# fetch the dataset\n",
    "df = pd.read_csv('twitter_archive_master.csv')\n",
    "\n",
    "df = df[df.rating_numerator < 21]\n",
    "df = df[df.rating_numerator > 1]\n",
    "\n",
    "df.describe()"
   ]
  },
  {
   "cell_type": "markdown",
   "metadata": {},
   "source": [
    "The above table shows that the average rating that WeRateDog gave is 10.6. In addition, their followers seem they like their posts since the average number of likes is 7901. Moreover, all their tweets has been retweeted by their followers since the minimum retweet they have is 11 retweets."
   ]
  },
  {
   "cell_type": "markdown",
   "metadata": {},
   "source": [
    "<a id='eda'></a>\n",
    "## Exploratory Data Analysis\n",
    "\n",
    "<a id='#q1'></a>\n",
    "### Research Question 1\n",
    "#### What is the highest source used to tweet?"
   ]
  },
  {
   "cell_type": "code",
   "execution_count": 287,
   "metadata": {},
   "outputs": [
    {
     "data": {
      "text/plain": [
       "<AxesSubplot:xlabel='source', ylabel='count'>"
      ]
     },
     "execution_count": 287,
     "metadata": {},
     "output_type": "execute_result"
    },
    {
     "data": {
      "image/png": "[encoded data removed]",
      "text/plain": [
       "<Figure size 432x288 with 1 Axes>"
      ]
     },
     "metadata": {
      "needs_background": "light"
     },
     "output_type": "display_data"
    }
   ],
   "source": [
    "sns.countplot(x='source', data=df)"
   ]
  },
  {
   "cell_type": "code",
   "execution_count": 288,
   "metadata": {},
   "outputs": [
    {
     "data": {
      "text/plain": [
       "Twitter for iPhone    1995\n",
       "Twitter Web Client      29\n",
       "TweetDeck                9\n",
       "Name: source, dtype: int64"
      ]
     },
     "execution_count": 288,
     "metadata": {},
     "output_type": "execute_result"
    }
   ],
   "source": [
    "df.source.value_counts()"
   ]
  },
  {
   "cell_type": "markdown",
   "metadata": {},
   "source": [
    "The above chart shows a significant difference between iPhone and other sources. iPhone is the highest source used to tweet more than Twitter Web Client and TweetDeck. iPhone has been used to tweet 1995 times, on the other hand Twitter Web Client and TweetDeck have less than 30 times."
   ]
  },
  {
   "cell_type": "markdown",
   "metadata": {},
   "source": [
    "<a id='#q2'></a>\n",
    "### Research Question 2\n",
    "#### Does the first algorithm need to be optimized?"
   ]
  },
  {
   "cell_type": "code",
   "execution_count": 289,
   "metadata": {},
   "outputs": [
    {
     "data": {
      "text/plain": [
       "0.7397934087555337"
      ]
     },
     "execution_count": 289,
     "metadata": {},
     "output_type": "execute_result"
    }
   ],
   "source": [
    "df.result_of_first_prediction.mean()"
   ]
  },
  {
   "cell_type": "code",
   "execution_count": 290,
   "metadata": {},
   "outputs": [
    {
     "data": {
      "text/plain": [
       "<AxesSubplot:xlabel='result_of_first_prediction', ylabel='count'>"
      ]
     },
     "execution_count": 290,
     "metadata": {},
     "output_type": "execute_result"
    },
    {
     "data": {
      "image/png": "[encoded data removed]",
      "text/plain": [
       "<Figure size 432x288 with 1 Axes>"
      ]
     },
     "metadata": {
      "needs_background": "light"
     },
     "output_type": "display_data"
    }
   ],
   "source": [
    "sns.countplot(x='result_of_first_prediction', data=df)"
   ]
  },
  {
   "cell_type": "markdown",
   "metadata": {},
   "source": [
    "The above charts shows that most of the results of the first prediction is correct. Exactly, 73% of the tests were correct in the first prediction. We might try to optimize the algorthim to increase the percentage."
   ]
  },
  {
   "cell_type": "markdown",
   "metadata": {},
   "source": [
    "<a id='#q3'></a>\n",
    "### Research Question 3\n",
    "#### Is there a correlation between favorate and retweet?"
   ]
  },
  {
   "cell_type": "code",
   "execution_count": 291,
   "metadata": {},
   "outputs": [
    {
     "data": {
      "text/plain": [
       "<AxesSubplot:xlabel='favorite_count', ylabel='retweet_count'>"
      ]
     },
     "execution_count": 291,
     "metadata": {},
     "output_type": "execute_result"
    },
    {
     "data": {
      "image/png": "[encoded data removed]",
      "text/plain": [
       "<Figure size 432x288 with 1 Axes>"
      ]
     },
     "metadata": {
      "needs_background": "light"
     },
     "output_type": "display_data"
    }
   ],
   "source": [
    "sns.scatterplot(\n",
    "    data=df, x=\"favorite_count\", y=\"retweet_count\"\n",
    ")"
   ]
  },
  {
   "cell_type": "markdown",
   "metadata": {},
   "source": [
    "The above chart shows there is a strong correlation between favorite and retweet, since increasing in number of retweets leads to increasing in number of likes."
   ]
  },
  {
   "cell_type": "markdown",
   "metadata": {},
   "source": [
    "<a id='#q4'></a>\n",
    "### Research Question 4\n",
    "#### What is the most common rating?"
   ]
  },
  {
   "cell_type": "code",
   "execution_count": 292,
   "metadata": {},
   "outputs": [
    {
     "data": {
      "text/plain": [
       "<AxesSubplot:xlabel='rating_numerator', ylabel='count'>"
      ]
     },
     "execution_count": 292,
     "metadata": {},
     "output_type": "execute_result"
    },
    {
     "data": {
      "image/png": "[encoded data removed]",
      "text/plain": [
       "<Figure size 432x288 with 1 Axes>"
      ]
     },
     "metadata": {
      "needs_background": "light"
     },
     "output_type": "display_data"
    }
   ],
   "source": [
    "sns.countplot(x='rating_numerator', data=df)"
   ]
  },
  {
   "cell_type": "markdown",
   "metadata": {},
   "source": [
    "The above chart shows that the rating is limited between 15 and 2 and the majority of the ratings placed between 10 and 13. In addition, the ratings which is above 15 were ignored since that usually was given to images which have more than one dog."
   ]
  },
  {
   "cell_type": "markdown",
   "metadata": {},
   "source": [
    "<a id='#q5'></a>\n",
    "### Research Question 5\n",
    "#### What is the most favorate dog stage?"
   ]
  },
  {
   "cell_type": "code",
   "execution_count": 293,
   "metadata": {},
   "outputs": [
    {
     "data": {
      "text/plain": [
       "Text(0, 0.5, 'Dog stages')"
      ]
     },
     "execution_count": 293,
     "metadata": {},
     "output_type": "execute_result"
    },
    {
     "data": {
      "image/png": "[encoded data removed]",
      "text/plain": [
       "<Figure size 432x288 with 1 Axes>"
      ]
     },
     "metadata": {
      "needs_background": "light"
     },
     "output_type": "display_data"
    }
   ],
   "source": [
    "stage_count = df.groupby('stage').favorite_count.sum().reset_index()\n",
    "\n",
    "sns.barplot(x=stage_count.favorite_count.values, y=stage_count.stage, data=stage_count)\n",
    "plt.title('Favorites of different stages')\n",
    "plt.xlabel('Total of favorite count')\n",
    "plt.ylabel('Dog stages')"
   ]
  },
  {
   "cell_type": "markdown",
   "metadata": {},
   "source": [
    "The above chart shows that most of the favorite counts for undefined stage \"None\". So, we cannot deteremine if the dog stage might affect the number of favorite.  "
   ]
  },
  {
   "cell_type": "markdown",
   "metadata": {},
   "source": [
    "<a id='conc'></a>\n",
    "### Conclusion\n",
    "\n",
    "In conclusion, after investigation and understanding the data I was able to know and make sure about several details which I was know nothing about dogs.\n",
    "\n",
    "@WeRateDogs scores does not have a standard for ratings, and it does not directly affect the user's preferences. The scale of rating should be clear and direct, since they've given ratings for some dogs 15 out of 10 which is limited me as a Data Analyst to find to specify the best dog. \n",
    "\n",
    "However, based on the analysis I found a strong correlation between retweet and favorate since increasing in number of retweets leads to increasing in number of likes. And something came up in my mind when I find this correlation because I don't need to ask people to retweet and like my tweets. I can simply ask them only to retweet then the number of likes should increase as well.\n",
    "\n",
    "Moreover, it seems that iPhone is more way popluar than other sources since there is a significant difference between iPhone and other sources. In particular, iPhone is the highest source used to tweet more than Twitter Web Client and TweetDeck. iPhone has been used to tweet 7980 times, on the other hand Twitter Web Client and TweetDeck have less than 120 times.\n",
    "\n",
    "In addition, I wasn't able to determine if the dog stage might affect the total number of favorite, since most of the favorite counts is categorized as undefined stage \"None\"."
   ]
  },
  {
   "cell_type": "code",
   "execution_count": 294,
   "metadata": {},
   "outputs": [
    {
     "data": {
      "text/html": [
       "<script>\n",
       "code_show=true; \n",
       "function code_toggle() {\n",
       " if (code_show){\n",
       " $('div.input').hide();\n",
       " } else {\n",
       " $('div.input').show();\n",
       " }\n",
       " code_show = !code_show\n",
       "} \n",
       "$( document ).ready(code_toggle);\n",
       "</script>\n",
       "The raw code for this IPython notebook is by default hidden for easier reading.\n",
       "To toggle on/off the raw code, click <a href=\"javascript:code_toggle()\">here</a>."
      ],
      "text/plain": [
       "<IPython.core.display.HTML object>"
      ]
     },
     "execution_count": 294,
     "metadata": {},
     "output_type": "execute_result"
    }
   ],
   "source": [
    "# hiding code for proper presentation\n",
    "from IPython.display import HTML\n",
    "HTML('''<script>\n",
    "code_show=true; \n",
    "function code_toggle() {\n",
    " if (code_show){\n",
    " $('div.input').hide();\n",
    " } else {\n",
    " $('div.input').show();\n",
    " }\n",
    " code_show = !code_show\n",
    "} \n",
    "$( document ).ready(code_toggle);\n",
    "</script>\n",
    "The raw code for this IPython notebook is by default hidden for easier reading.\n",
    "To toggle on/off the raw code, click <a href=\"javascript:code_toggle()\">here</a>.''')"
   ]
  }
 ],
 "metadata": {
  "kernelspec": {
   "display_name": "Python 3",
   "language": "python",
   "name": "python3"
  },
  "language_info": {
   "codemirror_mode": {
    "name": "ipython",
    "version": 3
   },
   "file_extension": ".py",
   "mimetype": "text/x-python",
   "name": "python",
   "nbconvert_exporter": "python",
   "pygments_lexer": "ipython3",
   "version": "3.6.12"
  }
 },
 "nbformat": 4,
 "nbformat_minor": 4
}
