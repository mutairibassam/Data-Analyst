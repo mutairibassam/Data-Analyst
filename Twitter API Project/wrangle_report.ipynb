{
 "cells": [
  {
   "cell_type": "markdown",
   "metadata": {},
   "source": [
    "# Project: <a href=\"https://twitter.com/dog_rates\">@WeRateDogs</a> Twitter Data Analysis\n",
    "\n",
    "## Table of contents\n",
    "- [Introduction](#intro)\n",
    "- [Gather](#gather)\n",
    "- [Assess](#assess)\n",
    "- [Clean](#clean)\n",
    "- [Data](#data)\n",
    "- [Observations](#obs)\n",
    "- [Conclusion](#conc)"
   ]
  },
  {
   "cell_type": "markdown",
   "metadata": {},
   "source": [
    "<a id='intro'></a>\n",
    "# Introduction"
   ]
  },
  {
   "cell_type": "markdown",
   "metadata": {},
   "source": [
    "In this project I will be wrangling the tweet archive of Twitter user @dog_rates, also known as WeRateDogs. WeRateDogs is a Twitter account that rates people's dogs with a humorous comment about the dog. Also, WeRateDogs has over 4 million followers and has received international media coverage. Also, I will be detecting several qualities issues and tidiness issues."
   ]
  },
  {
   "cell_type": "markdown",
   "metadata": {},
   "source": [
    "<a id='gather'></a>\n",
    "## Gather"
   ]
  },
  {
   "cell_type": "markdown",
   "metadata": {},
   "source": [
    "Gathering data varies from project to project. Sometimes you need to search for the right data for your project. Sometimes the data you need isn't readily available, and you need to generate it yourself somehow. When you do find your data, it's not unusual for it to be spread across several different sources and file formats, which makes things tricky when organizing the data in your programming environment.\n",
    "\n",
    "In this project, I will gather data from 3 different sources.\n",
    "- Local csv file\n",
    "- Twitter API\n",
    "- Savings image prediction file programmatically"
   ]
  },
  {
   "cell_type": "markdown",
   "metadata": {},
   "source": [
    "<a id='assess'></a>\n",
    "## Assess"
   ]
  },
  {
   "cell_type": "markdown",
   "metadata": {},
   "source": [
    "Assessing data is the second step in data wrangling. When assessing, we are like a detective at work, inspecting your dataset for two things: data quality issues (i.e. content issues) and lack of tidiness (i.e. structural issues).\n",
    "\n",
    "In this project, I will assess the data visually and programmatically to identify data quality issues and tidiness issues."
   ]
  },
  {
   "cell_type": "markdown",
   "metadata": {},
   "source": [
    "<a id='clean'></a>\n",
    "## Clean"
   ]
  },
  {
   "cell_type": "markdown",
   "metadata": {},
   "source": [
    "Cleaning data is the third step in data wrangling. It is where we fix the quality and tidiness issues that we identified in the assess step. In this project, I will clean all of the issues I identified in assess step using Python and pandas."
   ]
  },
  {
   "cell_type": "markdown",
   "metadata": {},
   "source": [
    "<a id='data'></a>\n",
    "## Data"
   ]
  },
  {
   "cell_type": "markdown",
   "metadata": {},
   "source": [
    "#### Enhanced Twitter Archive\n",
    "\n",
    "The WeRateDogs Twitter archive contains basic tweet data for all 5000+ of their tweets, but not everything. The table have filter for tweets with ratings only to make this Twitter archive \"enhanced\".\n",
    "\n",
    "The ratings probably aren't all correct. Same goes for the dog names and probably dog stages too. I will need to assess and clean these columns if I want to use them for analysis and visualization."
   ]
  },
  {
   "cell_type": "markdown",
   "metadata": {},
   "source": [
    "#### Image prediction table\n",
    "\n",
    "A table full of image predictions (the top three only) alongside each tweet ID, image URL, and the image number that corresponded to the most confident prediction."
   ]
  },
  {
   "cell_type": "markdown",
   "metadata": {},
   "source": [
    "#### Twitter API\n",
    "\n",
    "This is an additional data from Twitter's API."
   ]
  },
  {
   "cell_type": "markdown",
   "metadata": {},
   "source": [
    "<a id='obs'></a>\n",
    "## Observations\n",
    "\n",
    "#### Enhanced Twitter Archive\n",
    "\n",
    "#### Quality issues\n",
    "<ol>\n",
    "    <li>Erroneous datatypes (timestamp column)</li>\n",
    "    <li>Column name has so many incorrect values</li>\n",
    "    <li>Rating_denominator values are not fixed which should be 10</li>\n",
    "    <li>html tags should be removed from source values</li>\n",
    "    <li>Image link might be moved to a new column</li>\n",
    "    <li>drop (in_reply_to_status_id, in_reply_to_user_id, retweeted_status_timestamp, retweeted_status_id, retweeted_status_user_id columns) since it is not useful in this stage.</li>\n",
    "</ol>\n",
    "\n",
    "#### Tidiness issues\n",
    "<ul>\n",
    "    <li>Melt columns doggo, flooter, pupper and puppo to be as one column called dog stage</li>\n",
    "</ul>\n",
    "\n",
    "#### Image prediction table\n",
    "\n",
    "#### Quality issues\n",
    "<ol>\n",
    "    <li>modify columns (p1 , p1_conf, p1_dog) to (first_prediction, confidence_of_first_prediction, result_of_first_prediction)</li>\n",
    "    <li>modify columns (p2 , p2_conf, p2_dog) to (second_predition, confidence_of_second_prediction, result_of_second_predition)</li>\n",
    "    <li>modify columns (p3 , p3_conf, p3_dog) to (third_predition, confidence_of_third_prediction, result_of_third_predition)</li>\n",
    "</ol>\n",
    "\n",
    "#### Enhanced Twitter Archive\n",
    "\n",
    "#### Tidiness issues\n",
    "<ul>\n",
    "    <li>merge between tweeter-archive table and df_tweeter table</li>\n",
    "</ul>\n"
   ]
  },
  {
   "cell_type": "markdown",
   "metadata": {},
   "source": [
    "<a id='conc'></a>\n",
    "# Concolusion"
   ]
  },
  {
   "cell_type": "markdown",
   "metadata": {},
   "source": [
    "After document all wrangling steps and identify the observations against each table. All acutal fixes and code will be in a seprate document called \"wrangle_act.ipynb\"."
   ]
  }
 ],
 "metadata": {
  "kernelspec": {
   "display_name": "Python 3",
   "language": "python",
   "name": "python3"
  },
  "language_info": {
   "codemirror_mode": {
    "name": "ipython",
    "version": 3
   },
   "file_extension": ".py",
   "mimetype": "text/x-python",
   "name": "python",
   "nbconvert_exporter": "python",
   "pygments_lexer": "ipython3",
   "version": "3.6.12"
  }
 },
 "nbformat": 4,
 "nbformat_minor": 4
}
